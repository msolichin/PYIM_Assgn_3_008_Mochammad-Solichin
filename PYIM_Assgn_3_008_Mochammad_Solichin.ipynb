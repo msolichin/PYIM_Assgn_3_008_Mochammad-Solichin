{
  "nbformat": 4,
  "nbformat_minor": 0,
  "metadata": {
    "colab": {
      "name": "PYIM_Assgn_3_008_Mochammad-Solichin.ipynb",
      "private_outputs": true,
      "provenance": [],
      "collapsed_sections": []
    },
    "kernelspec": {
      "name": "python3",
      "display_name": "Python 3"
    },
    "language_info": {
      "name": "python"
    },
    "accelerator": "GPU"
  },
  "cells": [
    {
      "cell_type": "code",
      "metadata": {
        "id": "RzauhS6fQOgz"
      },
      "source": [
        "import numpy as np\n",
        "\n",
        "import tensorflow_datasets as tfds\n",
        "import tensorflow as tf\n",
        "\n",
        "import matplotlib.pyplot as plt"
      ],
      "execution_count": null,
      "outputs": []
    },
    {
      "cell_type": "code",
      "metadata": {
        "id": "hQVx99lwXH7D"
      },
      "source": [
        "def plot_graphs(history, metric):\n",
        "  plt.plot(history.history[metric])\n",
        "  plt.plot(history.history['val_'+metric], '')\n",
        "  plt.xlabel(\"Epochs\")\n",
        "  plt.ylabel(metric)\n",
        "  plt.legend([metric, 'val_'+metric])"
      ],
      "execution_count": null,
      "outputs": []
    },
    {
      "cell_type": "markdown",
      "metadata": {
        "id": "F9CohkwTXe35"
      },
      "source": [
        "## Load Dataset\n",
        "\n",
        "from: https://www.tensorflow.org/datasets/catalog/imdb_reviews\n"
      ]
    },
    {
      "cell_type": "code",
      "metadata": {
        "id": "EKIZIgVCXdfR"
      },
      "source": [
        "dataset= tfds.load('imdb_reviews', as_supervised=True)"
      ],
      "execution_count": null,
      "outputs": []
    },
    {
      "cell_type": "markdown",
      "metadata": {
        "id": "Y6qOfpV5bFEg"
      },
      "source": [
        "## Train & Test Dataset"
      ]
    },
    {
      "cell_type": "code",
      "metadata": {
        "id": "uqvJkKaMX0RZ"
      },
      "source": [
        "train_dataset, test_dataset = dataset['train'], dataset['test']\n",
        "train_dataset.element_spec"
      ],
      "execution_count": null,
      "outputs": []
    },
    {
      "cell_type": "markdown",
      "metadata": {
        "id": "k3A0_Wy7bWkW"
      },
      "source": [
        "## Example of Data\n",
        "\n",
        "label: 0 (neg), 1 (pos)"
      ]
    },
    {
      "cell_type": "code",
      "metadata": {
        "id": "xfP66kjdbMBA"
      },
      "source": [
        "for example, label in train_dataset.take(1):\n",
        "  print('text: ', example.numpy())\n",
        "  print('label: ', label.numpy())"
      ],
      "execution_count": null,
      "outputs": []
    },
    {
      "cell_type": "markdown",
      "metadata": {
        "id": "9eucyNPhjxfd"
      },
      "source": [
        "## Data Preparation"
      ]
    },
    {
      "cell_type": "code",
      "metadata": {
        "id": "tOjVEtkfblQm"
      },
      "source": [
        "buffer_size = 10000\n",
        "batch_size = 64"
      ],
      "execution_count": null,
      "outputs": []
    },
    {
      "cell_type": "code",
      "metadata": {
        "id": "4q505Xrvj2ZG"
      },
      "source": [
        "train_dataset = train_dataset.shuffle(buffer_size).batch(batch_size).prefetch(tf.data.AUTOTUNE)\n",
        "test_dataset = test_dataset.batch(batch_size).prefetch(tf.data.AUTOTUNE)"
      ],
      "execution_count": null,
      "outputs": []
    },
    {
      "cell_type": "code",
      "metadata": {
        "id": "g6ZSeUJzj4IH"
      },
      "source": [
        "for example, label in train_dataset.take(1):\n",
        "  print('texts: ', example.numpy()[3])\n",
        "  print()\n",
        "  print('labels: ', label.numpy()[3])"
      ],
      "execution_count": null,
      "outputs": []
    },
    {
      "cell_type": "code",
      "metadata": {
        "id": "15dTr54fj6xk"
      },
      "source": [
        "VOCAB_SIZE = 1000\n",
        "encoder = tf.keras.layers.experimental.preprocessing.TextVectorization(\n",
        "    max_tokens=VOCAB_SIZE)\n",
        "encoder.adapt(train_dataset.map(lambda text, label: text))"
      ],
      "execution_count": null,
      "outputs": []
    },
    {
      "cell_type": "markdown",
      "metadata": {
        "id": "CZijZfY3l3oT"
      },
      "source": [
        "## Create Model"
      ]
    },
    {
      "cell_type": "code",
      "metadata": {
        "id": "jRqFUHelkD8U"
      },
      "source": [
        "model = tf.keras.Sequential([\n",
        "    encoder,\n",
        "    tf.keras.layers.Embedding(\n",
        "        input_dim=len(encoder.get_vocabulary()),\n",
        "        output_dim=64,\n",
        "        mask_zero=True),\n",
        "    tf.keras.layers.Bidirectional(tf.keras.layers.LSTM(64)),\n",
        "    tf.keras.layers.Dense(64, activation='relu'),\n",
        "    tf.keras.layers.Dropout(0.5),\n",
        "    tf.keras.layers.Dense(2)\n",
        "])"
      ],
      "execution_count": null,
      "outputs": []
    },
    {
      "cell_type": "code",
      "metadata": {
        "id": "pjfDx8s0mV3S"
      },
      "source": [
        "model.compile(loss=tf.keras.losses.SparseCategoricalCrossentropy(from_logits=True),\n",
        "              optimizer=tf.keras.optimizers.Adam(1e-4),\n",
        "              metrics=['accuracy'])"
      ],
      "execution_count": null,
      "outputs": []
    },
    {
      "cell_type": "code",
      "metadata": {
        "id": "CVmyE4ZRmYls"
      },
      "source": [
        "history = model.fit(train_dataset, epochs=15,\n",
        "                    validation_data=test_dataset,\n",
        "                    validation_steps=30)"
      ],
      "execution_count": null,
      "outputs": []
    },
    {
      "cell_type": "markdown",
      "metadata": {
        "id": "vEML5YL1CrpD"
      },
      "source": [
        "## Test Model"
      ]
    },
    {
      "cell_type": "code",
      "metadata": {
        "id": "XO2QZVltmbEc"
      },
      "source": [
        "test_loss, test_acc = model.evaluate(test_dataset)\n",
        "\n",
        "print('Test Loss:', test_loss)\n",
        "print('Test Accuracy:', test_acc)"
      ],
      "execution_count": null,
      "outputs": []
    },
    {
      "cell_type": "markdown",
      "metadata": {
        "id": "2gKFG7p-C0_k"
      },
      "source": [
        "## Visualization"
      ]
    },
    {
      "cell_type": "code",
      "metadata": {
        "id": "EHVdMMDQCuGN"
      },
      "source": [
        "plt.figure(figsize=(16, 8))\n",
        "plt.subplot(1, 2, 1)\n",
        "plot_graphs(history, 'accuracy')\n",
        "plt.ylim(None, 1)\n",
        "plt.subplot(1, 2, 2)\n",
        "plot_graphs(history, 'loss')\n",
        "plt.ylim(0, None)"
      ],
      "execution_count": null,
      "outputs": []
    },
    {
      "cell_type": "markdown",
      "metadata": {
        "id": "BI6ZvFGlDAES"
      },
      "source": [
        "## Predict Model\n",
        "\n",
        "Input New Text"
      ]
    },
    {
      "cell_type": "code",
      "metadata": {
        "id": "gHwTmuBtC5Mr"
      },
      "source": [
        "label_class=[]\n",
        "label_class.append(\"negative\") #0\n",
        "label_class.append(\"positive\") #1"
      ],
      "execution_count": null,
      "outputs": []
    },
    {
      "cell_type": "code",
      "metadata": {
        "id": "NxGHKktcLrFX"
      },
      "source": [
        "sample_text = ('the movie is good scenario')\n",
        "predictions = model.predict(np.array([sample_text]))\n",
        "neg_score = predictions[0][0]\n",
        "pos_score = predictions[0][1]\n",
        "\n",
        "if neg_score > pos_score:\n",
        "  result = \"negative\"\n",
        "else:\n",
        "  result = \"positive\"\n",
        "\n",
        "print(sample_text)\n",
        "print(\"This comment is:\")\n",
        "print(result)"
      ],
      "execution_count": null,
      "outputs": []
    },
    {
      "cell_type": "code",
      "metadata": {
        "id": "Y5K8ANnad7c6"
      },
      "source": [
        "sample_text = ('bad movie')\n",
        "predictions = model.predict(np.array([sample_text]))\n",
        "neg_score = predictions[0][0]\n",
        "pos_score = predictions[0][1]\n",
        "\n",
        "if neg_score > pos_score:\n",
        "  result = \"negative\"\n",
        "else:\n",
        "  result = \"positive\"\n",
        "\n",
        "print(sample_text)\n",
        "print(\"This comment is:\")\n",
        "print(result)"
      ],
      "execution_count": null,
      "outputs": []
    },
    {
      "cell_type": "code",
      "metadata": {
        "id": "8QdkN4aBd_v6"
      },
      "source": [
        ""
      ],
      "execution_count": null,
      "outputs": []
    }
  ]
}